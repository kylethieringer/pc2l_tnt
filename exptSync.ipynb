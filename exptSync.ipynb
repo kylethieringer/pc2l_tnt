{
 "cells": [
  {
   "cell_type": "code",
   "execution_count": 30,
   "metadata": {
    "collapsed": true
   },
   "outputs": [],
   "source": [
    "import os\n",
    "import numpy as np\n",
    "import h5py\n",
    "import glob"
   ]
  },
  {
   "cell_type": "code",
   "execution_count": 5,
   "outputs": [
    {
     "name": "stdout",
     "output_type": "stream",
     "text": [
      "<KeysViewHDF5 ['#refs#', 'mics', 'params', 'stim', 't_s', 'tempC', 'validAudioSamples', 'vfaas']>\n"
     ]
    }
   ],
   "source": [
    "testfile = '/cup/murthy/Kyle/flies/pc2l_tnt/20230516_110613/right/data.mat'\n",
    "with h5py.File(testfile, 'r') as f:\n",
    "    print(f.keys())\n",
    "    vfaas = f['vfaas'][:]"
   ],
   "metadata": {
    "collapsed": false
   }
  },
  {
   "cell_type": "code",
   "execution_count": 38,
   "outputs": [],
   "source": [
    "exptList = glob.glob('/run/user/1000/gvfs/smb-share:server=cup.pni.princeton.edu,'\n",
    "                         'share=murthy/Kyle/flies/pc2l_tnt/**/**/*.tracking.h5')"
   ],
   "metadata": {
    "collapsed": false
   }
  },
  {
   "cell_type": "code",
   "execution_count": 47,
   "outputs": [],
   "source": [
    "for expt in exptList:\n",
    "    exptDir = os.path.dirname(expt)\n",
    "    datapath = os.path.join(exptDir, 'data.mat')\n",
    "    with h5py.File(datapath, 'r') as f:\n",
    "        vfaas = f['vfaas'][:].T\n",
    "    frame_idx, frame_time, count = np.unique(vfaas, return_index=True, return_counts=True)\n",
    "    sample_at_frame = frame_time[0:] + (count[0:]-1) / 2\n",
    "    savepath = os.path.join(exptDir, 'vSampleNumber_at_Frame.h5')\n",
    "    with h5py.File(savepath, 'w') as f:\n",
    "        f.create_dataset('vSampleNumber_at_Frame', data=sample_at_frame)\n"
   ],
   "metadata": {
    "collapsed": false
   }
  }
 ],
 "metadata": {
  "kernelspec": {
   "display_name": "Python 3",
   "language": "python",
   "name": "python3"
  },
  "language_info": {
   "codemirror_mode": {
    "name": "ipython",
    "version": 2
   },
   "file_extension": ".py",
   "mimetype": "text/x-python",
   "name": "python",
   "nbconvert_exporter": "python",
   "pygments_lexer": "ipython2",
   "version": "2.7.6"
  }
 },
 "nbformat": 4,
 "nbformat_minor": 0
}
