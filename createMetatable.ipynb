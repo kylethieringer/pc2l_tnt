{
 "cells": [
  {
   "cell_type": "code",
   "execution_count": 9,
   "metadata": {
    "collapsed": true
   },
   "outputs": [],
   "source": [
    "import os\n",
    "import glob\n",
    "import pandas as pd\n",
    "import h5py"
   ]
  },
  {
   "cell_type": "code",
   "execution_count": 10,
   "outputs": [],
   "source": [
    "csvfile = pd.read_csv('exptSheet.csv')"
   ],
   "metadata": {
    "collapsed": false
   }
  },
  {
   "cell_type": "code",
   "execution_count": 11,
   "outputs": [
    {
     "data": {
      "text/plain": "  Experiment date Setup ID  Experiment Name Male flye type    Male DOB   \n0      2023-05-12     Left  20230512_153214           NM91  2023-05-08  \\\n1      2023-05-12    Right  20230512_153214           NM91  2023-05-08   \n2      2023-05-12     Left  20230512_163844           NM91  2023-05-08   \n3      2023-05-12    Right  20230512_163844           NM91  2023-05-08   \n4      2023-05-15     Left  20230515_111851           NM91  2023-05-10   \n\n   Male days old                               Female fly type  Female DOB   \n0              4  lexAOP-Flp/UAS>stop>TNT;R42B01-Gal4/dsx-lexA  2023-05-05  \\\n1              4             lexAOP-Flp/+;R42B01-Gal4/dsx-lexA  2023-05-05   \n2              4  lexAOP-Flp/UAS>stop>TNT;R42B01-Gal4/dsx-lexA  2023-05-05   \n3              4             lexAOP-Flp/+;R42B01-Gal4/dsx-lexA  2023-05-05   \n4              5  lexAOP-Flp/UAS>stop>TNT;R42B01-Gal4/dsx-lexA  2023-05-10   \n\n   Female days old  Temperature Humidity   \n0                7         23.0      40%  \\\n1                7         23.0      40%   \n2                7         23.0      40%   \n3                7         23.0      40%   \n4                5         23.5      37%   \n\n                                        Comments Proofread Status Notes   \n0                                  Camera frozen         skipped    NaN  \\\n1  sigma coat is not painted well, discard this          skipped    NaN   \n2                                  Camera frozen         skipped    NaN   \n3  sigma coat is not painted well, discard this          skipped    NaN   \n4                                wing is damaged         skipped    NaN   \n\n   Exclude(?)   \n0          NaN  \n1          NaN  \n2          NaN  \n3          NaN  \n4          NaN  ",
      "text/html": "<div>\n<style scoped>\n    .dataframe tbody tr th:only-of-type {\n        vertical-align: middle;\n    }\n\n    .dataframe tbody tr th {\n        vertical-align: top;\n    }\n\n    .dataframe thead th {\n        text-align: right;\n    }\n</style>\n<table border=\"1\" class=\"dataframe\">\n  <thead>\n    <tr style=\"text-align: right;\">\n      <th></th>\n      <th>Experiment date</th>\n      <th>Setup ID</th>\n      <th>Experiment Name</th>\n      <th>Male flye type</th>\n      <th>Male DOB</th>\n      <th>Male days old</th>\n      <th>Female fly type</th>\n      <th>Female DOB</th>\n      <th>Female days old</th>\n      <th>Temperature</th>\n      <th>Humidity</th>\n      <th>Comments</th>\n      <th>Proofread Status</th>\n      <th>Notes</th>\n      <th>Exclude(?)</th>\n    </tr>\n  </thead>\n  <tbody>\n    <tr>\n      <th>0</th>\n      <td>2023-05-12</td>\n      <td>Left</td>\n      <td>20230512_153214</td>\n      <td>NM91</td>\n      <td>2023-05-08</td>\n      <td>4</td>\n      <td>lexAOP-Flp/UAS&gt;stop&gt;TNT;R42B01-Gal4/dsx-lexA</td>\n      <td>2023-05-05</td>\n      <td>7</td>\n      <td>23.0</td>\n      <td>40%</td>\n      <td>Camera frozen</td>\n      <td>skipped</td>\n      <td>NaN</td>\n      <td>NaN</td>\n    </tr>\n    <tr>\n      <th>1</th>\n      <td>2023-05-12</td>\n      <td>Right</td>\n      <td>20230512_153214</td>\n      <td>NM91</td>\n      <td>2023-05-08</td>\n      <td>4</td>\n      <td>lexAOP-Flp/+;R42B01-Gal4/dsx-lexA</td>\n      <td>2023-05-05</td>\n      <td>7</td>\n      <td>23.0</td>\n      <td>40%</td>\n      <td>sigma coat is not painted well, discard this</td>\n      <td>skipped</td>\n      <td>NaN</td>\n      <td>NaN</td>\n    </tr>\n    <tr>\n      <th>2</th>\n      <td>2023-05-12</td>\n      <td>Left</td>\n      <td>20230512_163844</td>\n      <td>NM91</td>\n      <td>2023-05-08</td>\n      <td>4</td>\n      <td>lexAOP-Flp/UAS&gt;stop&gt;TNT;R42B01-Gal4/dsx-lexA</td>\n      <td>2023-05-05</td>\n      <td>7</td>\n      <td>23.0</td>\n      <td>40%</td>\n      <td>Camera frozen</td>\n      <td>skipped</td>\n      <td>NaN</td>\n      <td>NaN</td>\n    </tr>\n    <tr>\n      <th>3</th>\n      <td>2023-05-12</td>\n      <td>Right</td>\n      <td>20230512_163844</td>\n      <td>NM91</td>\n      <td>2023-05-08</td>\n      <td>4</td>\n      <td>lexAOP-Flp/+;R42B01-Gal4/dsx-lexA</td>\n      <td>2023-05-05</td>\n      <td>7</td>\n      <td>23.0</td>\n      <td>40%</td>\n      <td>sigma coat is not painted well, discard this</td>\n      <td>skipped</td>\n      <td>NaN</td>\n      <td>NaN</td>\n    </tr>\n    <tr>\n      <th>4</th>\n      <td>2023-05-15</td>\n      <td>Left</td>\n      <td>20230515_111851</td>\n      <td>NM91</td>\n      <td>2023-05-10</td>\n      <td>5</td>\n      <td>lexAOP-Flp/UAS&gt;stop&gt;TNT;R42B01-Gal4/dsx-lexA</td>\n      <td>2023-05-10</td>\n      <td>5</td>\n      <td>23.5</td>\n      <td>37%</td>\n      <td>wing is damaged</td>\n      <td>skipped</td>\n      <td>NaN</td>\n      <td>NaN</td>\n    </tr>\n  </tbody>\n</table>\n</div>"
     },
     "execution_count": 11,
     "metadata": {},
     "output_type": "execute_result"
    }
   ],
   "source": [
    "csvfile.head()"
   ],
   "metadata": {
    "collapsed": false
   }
  },
  {
   "cell_type": "code",
   "execution_count": 12,
   "outputs": [
    {
     "data": {
      "text/plain": "array(['lexAOP-Flp/UAS>stop>TNT;R42B01-Gal4/dsx-lexA',\n       'lexAOP-Flp/+;R42B01-Gal4/dsx-lexA'], dtype=object)"
     },
     "execution_count": 12,
     "metadata": {},
     "output_type": "execute_result"
    }
   ],
   "source": [
    "csvfile['Female fly type'].unique()"
   ],
   "metadata": {
    "collapsed": false
   }
  },
  {
   "cell_type": "code",
   "execution_count": 13,
   "outputs": [],
   "source": [
    "dataDir = '/run/user/1000/gvfs/smb-share:server=cup.pni.princeton.edu,share=murthy/Kyle/flies/pc2l_tnt/'"
   ],
   "metadata": {
    "collapsed": false
   }
  },
  {
   "cell_type": "code",
   "execution_count": 14,
   "outputs": [
    {
     "name": "stdout",
     "output_type": "stream",
     "text": [
      "/run/user/1000/gvfs/smb-share:server=cup.pni.princeton.edu,share=murthy/Kyle/flies/pc2l_tnt/20230512_153214/left/20230512_153214left.h5\n",
      "/run/user/1000/gvfs/smb-share:server=cup.pni.princeton.edu,share=murthy/Kyle/flies/pc2l_tnt/20230512_153214/right/20230512_153214right.h5\n",
      "/run/user/1000/gvfs/smb-share:server=cup.pni.princeton.edu,share=murthy/Kyle/flies/pc2l_tnt/20230512_163844/left/20230512_163844left.h5\n",
      "/run/user/1000/gvfs/smb-share:server=cup.pni.princeton.edu,share=murthy/Kyle/flies/pc2l_tnt/20230512_163844/right/20230512_163844right.h5\n",
      "/run/user/1000/gvfs/smb-share:server=cup.pni.princeton.edu,share=murthy/Kyle/flies/pc2l_tnt/20230515_111851/left/20230515_111851left.h5\n",
      "/run/user/1000/gvfs/smb-share:server=cup.pni.princeton.edu,share=murthy/Kyle/flies/pc2l_tnt/20230515_111851/right/20230515_111851right.h5\n",
      "/run/user/1000/gvfs/smb-share:server=cup.pni.princeton.edu,share=murthy/Kyle/flies/pc2l_tnt/20230517_094418/right/20230517_094418right.h5\n"
     ]
    }
   ],
   "source": [
    "metadata = {}\n",
    "for idx in range(len(csvfile)):\n",
    "\n",
    "    row = csvfile.loc[idx]\n",
    "    name = row['Experiment Name']\n",
    "    rig = row['Setup ID']\n",
    "\n",
    "    exptname = name+rig.lower()\n",
    "    exptDate = row['Experiment date']\n",
    "    maleDOB = row['Male DOB']\n",
    "    femaleDOB = row['Female DOB']\n",
    "\n",
    "    exptpath = os.path.join(dataDir, name, rig.lower(),exptname+'.h5')\n",
    "    if not os.path.exists(exptpath):\n",
    "        print(exptpath)\n",
    "        continue\n",
    "    else:\n",
    "        with h5py.File(exptpath, 'r') as f:\n",
    "            mfDist = f['mfDist'][:]\n",
    "    copulated = len(mfDist) < 108000\n",
    "\n",
    "    cop = int(copulated)\n",
    "    if copulated:\n",
    "        copFrame = len(mfDist)\n",
    "    else:\n",
    "        copFrame = 'NaN'\n",
    "\n",
    "    if row['Female fly type'] == 'lexAOP-Flp/UAS>stop>TNT;R42B01-Gal4/dsx-lexA':\n",
    "        femaleGT = 'pc2_tnt'\n",
    "    else:\n",
    "        femaleGT = 'pc2_control'\n",
    "\n",
    "    maleGT = row['Male flye type']\n",
    "\n",
    "    maleAge = row['Male days old']\n",
    "    femaleAge = row['Female days old']\n",
    "\n",
    "#     metaDict = {'exptName':expt, 'exptDate':exptDate,\n",
    "#                 'maleGT':maleGT, 'maleDOB':maleDOB, 'maleAge':maleAge,\n",
    "#                 'femaleGT':femaleGT,'femaleDOB':femaleDOB, 'femaleAge':femaleAge,\n",
    "#                 'cop':cop, 'copFrame':copFrame}\n",
    "#     metadata |= metaDict\n",
    "    metadata[idx] = {'exptName':exptname, 'exptDate':exptDate,\n",
    "                      'maleGT':maleGT, 'maleDOB':maleDOB, 'maleAge':maleAge,\n",
    "                      'femaleGT':femaleGT,'femaleDOB':femaleDOB, 'femaleAge':femaleAge,\n",
    "                      'cop':cop, 'copFrame':copFrame}"
   ],
   "metadata": {
    "collapsed": false
   }
  },
  {
   "cell_type": "code",
   "execution_count": 15,
   "outputs": [],
   "source": [
    "meta = pd.DataFrame.from_dict(metadata, orient='index')"
   ],
   "metadata": {
    "collapsed": false
   }
  },
  {
   "cell_type": "code",
   "execution_count": 16,
   "outputs": [],
   "source": [
    "meta.to_csv('metadata.csv')"
   ],
   "metadata": {
    "collapsed": false
   }
  },
  {
   "cell_type": "code",
   "execution_count": null,
   "outputs": [],
   "source": [],
   "metadata": {
    "collapsed": false
   }
  }
 ],
 "metadata": {
  "kernelspec": {
   "display_name": "Python 3",
   "language": "python",
   "name": "python3"
  },
  "language_info": {
   "codemirror_mode": {
    "name": "ipython",
    "version": 2
   },
   "file_extension": ".py",
   "mimetype": "text/x-python",
   "name": "python",
   "nbconvert_exporter": "python",
   "pygments_lexer": "ipython2",
   "version": "2.7.6"
  }
 },
 "nbformat": 4,
 "nbformat_minor": 0
}
